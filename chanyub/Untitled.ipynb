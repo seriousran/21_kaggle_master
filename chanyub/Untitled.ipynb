{
 "cells": [
  {
   "cell_type": "code",
   "execution_count": 49,
   "id": "split-culture",
   "metadata": {},
   "outputs": [],
   "source": [
    "import numpy as np # linear algebra\n",
    "import pandas as pd # data processing, CSV file I/O (e.g. pd.read_csv)\n",
    "\n",
    "# import useful tools\n",
    "from glob import glob\n",
    "# from PIL import Image\n",
    "# import cv2\n",
    "\n",
    "# # import data visualization\n",
    "# import matplotlib.pyplot as plt\n",
    "# import matplotlib.patches as patches\n",
    "# import seaborn as sns\n",
    "\n",
    "# from bokeh.plotting import figure\n",
    "# from bokeh.io import output_notebook, show, output_file\n",
    "# from bokeh.models import ColumnDataSource, HoverTool, Panel\n",
    "# from bokeh.models.widgets import Tabs\n",
    "\n",
    "# # import data augmentation\n",
    "# import albumentations as albu"
   ]
  },
  {
   "cell_type": "code",
   "execution_count": 50,
   "id": "boxed-recommendation",
   "metadata": {},
   "outputs": [],
   "source": [
    "TRAIN_DIR = './global-wheat-detection/train/'\n",
    "TEST_DIR = './global-wheat-detection/test/'\n",
    "TRAIN_CSV_PATH = './global-wheat-detection/train.csv'"
   ]
  },
  {
   "cell_type": "code",
   "execution_count": 51,
   "id": "pharmaceutical-denver",
   "metadata": {},
   "outputs": [],
   "source": [
    "train_fns = glob(TRAIN_DIR + '*')\n",
    "test_fns = glob(TEST_DIR + '*')"
   ]
  },
  {
   "cell_type": "code",
   "execution_count": 52,
   "id": "superior-duration",
   "metadata": {},
   "outputs": [
    {
     "name": "stdout",
     "output_type": "stream",
     "text": [
      "['./global-wheat-detection/test/2fd875eaa.jpg', './global-wheat-detection/test/53f253011.jpg', './global-wheat-detection/test/f5a1f0358.jpg', './global-wheat-detection/test/cc3532ff6.jpg', './global-wheat-detection/test/51b3e36ab.jpg', './global-wheat-detection/test/51f1be19e.jpg', './global-wheat-detection/test/cb8d261a3.jpg', './global-wheat-detection/test/348a992bb.jpg', './global-wheat-detection/test/796707dd7.jpg', './global-wheat-detection/test/aac893a91.jpg']\n"
     ]
    }
   ],
   "source": [
    "print(test_fns)"
   ]
  },
  {
   "cell_type": "markdown",
   "id": "furnished-anchor",
   "metadata": {},
   "source": [
    "# 1. 데이터 갯수"
   ]
  },
  {
   "cell_type": "code",
   "execution_count": 53,
   "id": "cubic-suicide",
   "metadata": {},
   "outputs": [
    {
     "name": "stdout",
     "output_type": "stream",
     "text": [
      "Number of train images is 3422\n",
      "Number of test images is 10\n"
     ]
    }
   ],
   "source": [
    "print('Number of train images is {}'.format(len(train_fns)))\n",
    "print('Number of test images is {}'.format(len(test_fns)))"
   ]
  },
  {
   "cell_type": "code",
   "execution_count": 54,
   "id": "human-bridges",
   "metadata": {},
   "outputs": [],
   "source": [
    "train = pd.read_csv(TRAIN_CSV_PATH)\n",
    "\n",
    "all_train_images = pd.DataFrame([fns.split('/')[-1][:-4] for fns in train_fns])"
   ]
  },
  {
   "cell_type": "code",
   "execution_count": null,
   "id": "political-marina",
   "metadata": {},
   "outputs": [],
   "source": []
  }
 ],
 "metadata": {
  "kernelspec": {
   "display_name": "Python 3",
   "language": "python",
   "name": "python3"
  },
  "language_info": {
   "codemirror_mode": {
    "name": "ipython",
    "version": 3
   },
   "file_extension": ".py",
   "mimetype": "text/x-python",
   "name": "python",
   "nbconvert_exporter": "python",
   "pygments_lexer": "ipython3",
   "version": "3.8.5"
  }
 },
 "nbformat": 4,
 "nbformat_minor": 5
}
