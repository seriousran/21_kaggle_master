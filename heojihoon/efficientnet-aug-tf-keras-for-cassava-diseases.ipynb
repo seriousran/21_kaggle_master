{
 "cells": [
  {
   "cell_type": "markdown",
   "metadata": {},
   "source": [
    "# EfficientNet+Augmentation for Cassava Disease Classification using TF.Keras"
   ]
  },
  {
   "cell_type": "markdown",
   "metadata": {},
   "source": [
    "This notebook presents a full pipeline to load the data, apply advanced data augmentation, train an EfficientNet and use the model to predict over the test images. To make it possible to run within the allocated time for notebooks, this notebook will only present a single fold with a split of 80% for training and 20% for validation. Due to the original image size of 600x800 pixels, we will randomly crop 512x512 images from original images in order to keep the highest image resolution possible for our model training. Previous versions of this notebook used resized images and the results were extremely poor in comparison (~0.42 accuracy)."
   ]
  },
  {
   "cell_type": "markdown",
   "metadata": {},
   "source": [
    "Below are some version notes which were written at version 20 so I only included what I could remember."
   ]
  },
  {
   "cell_type": "markdown",
   "metadata": {},
   "source": [
    "Version notes:\n",
    "* 27: Fix bug in the TTA process.\n",
    "* 26: Move from using `ImageDataGenerator` to `tf.data` to load data into the model. This allows to tune the Normalization layer in the pretrained EfficientNetB3 model provided by `tf.keras`. By default, images are normalized using the `imagenet` dataset's mean and standard deviation. *- score: 0.888*\n",
    "* 24: Test CosineDecay instead of ReduceLRonPlateau and increase the dropout rate within the EfficientNetB3 model. *- score: 0.885*\n",
    "* 22: Replace the custom generator and data augmentation using `imgaug` with the new Keras preprocessing layers. Also increase the image size from 300x300 to 512x512. *- score: 0.880*\n",
    "* 21: *- score: 0.883*\n",
    "* 20: Fix bug activating the \"training mode\" by default in the custom generator, even during validation. Removed data standardization and class weights, simplify the bottleneck layers of the model, and remove the dropout from the data augmentation techniques. *- score: 0.873*\n",
    "* 17: Additional data augmentation techniques. *- score: 0.821*\n",
    "* 16: Tighter scan of the images at test time. *- score: 0.857*\n",
    "* 15: Add data standardization. (Cannot remember if there was a bug but the score was abnormaly low) *- score: 0.692*\n",
    "* 11: Train the model by randomly cropping 300x300pixel tiles from the original images *- score: 0.847*\n",
    "* 9: Classification from resized images. *- score: 0.421* "
   ]
  },
  {
   "cell_type": "code",
   "execution_count": 1,
   "metadata": {
    "_cell_guid": "b1076dfc-b9ad-4769-8c92-a6c4dae69d19",
    "_uuid": "8f2839f25d086af736a60e9eeb907d3b93b6e0e5"
   },
   "outputs": [
    {
     "ename": "ModuleNotFoundError",
     "evalue": "No module named 'matplotlib'",
     "output_type": "error",
     "traceback": [
      "\u001b[1;31m---------------------------------------------------------------------------\u001b[0m",
      "\u001b[1;31mModuleNotFoundError\u001b[0m                       Traceback (most recent call last)",
      "\u001b[1;32m<ipython-input-1-d7524dbfc099>\u001b[0m in \u001b[0;36m<module>\u001b[1;34m\u001b[0m\n\u001b[0;32m      3\u001b[0m \u001b[1;32mfrom\u001b[0m \u001b[0mPIL\u001b[0m \u001b[1;32mimport\u001b[0m \u001b[0mImage\u001b[0m\u001b[1;33m\u001b[0m\u001b[1;33m\u001b[0m\u001b[0m\n\u001b[0;32m      4\u001b[0m \u001b[1;32mimport\u001b[0m \u001b[0mos\u001b[0m\u001b[1;33m\u001b[0m\u001b[1;33m\u001b[0m\u001b[0m\n\u001b[1;32m----> 5\u001b[1;33m \u001b[1;32mimport\u001b[0m \u001b[0mmatplotlib\u001b[0m\u001b[1;33m.\u001b[0m\u001b[0mpyplot\u001b[0m \u001b[1;32mas\u001b[0m \u001b[0mplt\u001b[0m\u001b[1;33m\u001b[0m\u001b[1;33m\u001b[0m\u001b[0m\n\u001b[0m\u001b[0;32m      6\u001b[0m \u001b[1;32mimport\u001b[0m \u001b[0mseaborn\u001b[0m \u001b[1;32mas\u001b[0m \u001b[0msns\u001b[0m\u001b[1;33m\u001b[0m\u001b[1;33m\u001b[0m\u001b[0m\n\u001b[0;32m      7\u001b[0m \u001b[1;32mfrom\u001b[0m \u001b[0mtqdm\u001b[0m \u001b[1;32mimport\u001b[0m \u001b[0mtqdm\u001b[0m\u001b[1;33m\u001b[0m\u001b[1;33m\u001b[0m\u001b[0m\n",
      "\u001b[1;31mModuleNotFoundError\u001b[0m: No module named 'matplotlib'"
     ]
    }
   ],
   "source": [
    "import numpy as np\n",
    "import pandas as pd\n",
    "from PIL import Image\n",
    "import os\n",
    "import matplotlib.pyplot as plt\n",
    "import seaborn as sns\n",
    "from tqdm import tqdm\n",
    "from sklearn.utils import shuffle\n",
    "from sklearn.utils import class_weight\n",
    "from sklearn.preprocessing import minmax_scale\n",
    "import random\n",
    "import cv2\n",
    "from imgaug import augmenters as iaa\n",
    "import warnings\n",
    "warnings.filterwarnings('ignore')\n",
    "\n",
    "import tensorflow as tf\n",
    "from tensorflow.keras.models import Sequential, Model\n",
    "from tensorflow.keras.preprocessing.image import ImageDataGenerator\n",
    "from tensorflow.keras.layers import Dense, Dropout, Activation, Input, BatchNormalization, GlobalAveragePooling2D\n",
    "from tensorflow.keras import layers\n",
    "from tensorflow.keras.callbacks import ModelCheckpoint, ReduceLROnPlateau, EarlyStopping\n",
    "from tensorflow.keras.experimental import CosineDecay\n",
    "from tensorflow.keras.utils import to_categorical\n",
    "from tensorflow.keras.applications import EfficientNetB3\n",
    "from tensorflow.keras.layers.experimental.preprocessing import RandomCrop,CenterCrop, RandomRotation"
   ]
  },
  {
   "cell_type": "markdown",
   "metadata": {},
   "source": [
    "# Prepare the training and validation data generators"
   ]
  },
  {
   "cell_type": "code",
   "execution_count": null,
   "metadata": {},
   "outputs": [],
   "source": [
    "training_folder = '../input/cassava-leaf-disease-classification/train_images/'"
   ]
  },
  {
   "cell_type": "code",
   "execution_count": null,
   "metadata": {},
   "outputs": [],
   "source": [
    "samples_df = pd.read_csv(\"../input/cassava-leaf-disease-classification/train.csv\")\n",
    "samples_df = shuffle(samples_df, random_state=42)\n",
    "samples_df[\"filepath\"] = training_folder+samples_df[\"image_id\"]\n",
    "samples_df.head()"
   ]
  },
  {
   "cell_type": "markdown",
   "metadata": {},
   "source": [
    "I keep 80% of the data provided for training and retain the other 20% for validation during my training process."
   ]
  },
  {
   "cell_type": "code",
   "execution_count": null,
   "metadata": {},
   "outputs": [],
   "source": [
    "training_percentage = 0.8\n",
    "training_item_count = int(len(samples_df)*training_percentage)\n",
    "validation_item_count = len(samples_df)-int(len(samples_df)*training_percentage)\n",
    "training_df = samples_df[:training_item_count]\n",
    "validation_df = samples_df[training_item_count:]"
   ]
  },
  {
   "cell_type": "markdown",
   "metadata": {},
   "source": [
    "Initially, I had set the image size to 300x300 in order to fit the original input size to the EfficientnetB3 model. However, as we are randomly cropping these images from the original 600x800-pixel images, it appears that using a dimension of 512x512 pixels leads to better results."
   ]
  },
  {
   "cell_type": "code",
   "execution_count": null,
   "metadata": {},
   "outputs": [],
   "source": [
    "[]"
   ]
  },
  {
   "cell_type": "code",
   "execution_count": null,
   "metadata": {},
   "outputs": [],
   "source": [
    "batch_size = 8\n",
    "image_size = 512\n",
    "input_shape = (image_size, image_size, 3)\n",
    "dropout_rate = 0.4\n",
    "classes_to_predict = sorted(training_df.label.unique())"
   ]
  },
  {
   "cell_type": "markdown",
   "metadata": {},
   "source": [
    "The code below allows to load the data from the dataframes using `tf.data`."
   ]
  },
  {
   "cell_type": "code",
   "execution_count": null,
   "metadata": {},
   "outputs": [],
   "source": [
    "training_data = tf.data.Dataset.from_tensor_slices((training_df.filepath.values, training_df.label.values))\n",
    "validation_data = tf.data.Dataset.from_tensor_slices((validation_df.filepath.values, validation_df.label.values))"
   ]
  },
  {
   "cell_type": "code",
   "execution_count": null,
   "metadata": {},
   "outputs": [],
   "source": [
    "def load_image_and_label_from_path(image_path, label):\n",
    "    img = tf.io.read_file(image_path)\n",
    "    img = tf.image.decode_jpeg(img, channels=3)\n",
    "    return img, label\n",
    "\n",
    "AUTOTUNE = tf.data.experimental.AUTOTUNE\n",
    "\n",
    "training_data = training_data.map(load_image_and_label_from_path, num_parallel_calls=AUTOTUNE)\n",
    "validation_data = validation_data.map(load_image_and_label_from_path, num_parallel_calls=AUTOTUNE)"
   ]
  },
  {
   "cell_type": "code",
   "execution_count": null,
   "metadata": {},
   "outputs": [],
   "source": [
    "training_data_batches = training_data.shuffle(buffer_size=1000).batch(batch_size).prefetch(buffer_size=AUTOTUNE)\n",
    "validation_data_batches = validation_data.shuffle(buffer_size=1000).batch(batch_size).prefetch(buffer_size=AUTOTUNE)"
   ]
  },
  {
   "cell_type": "markdown",
   "metadata": {},
   "source": [
    "I also prepare a special dataset that will be fed to the Normalization layer. The EfficientnetB3 provided by `tf.keras` includes an out-of-the-box Normalization layer fit onto the `imagenet` dataset. Therefore, we can pull that layer and use the `adapt` function to refit it to the Cassava Disease dataset."
   ]
  },
  {
   "cell_type": "code",
   "execution_count": null,
   "metadata": {},
   "outputs": [],
   "source": [
    "adapt_data = tf.data.Dataset.from_tensor_slices(training_df.filepath.values)\n",
    "def adapt_mode(image_path):\n",
    "    img = tf.io.read_file(image_path)\n",
    "    img = tf.image.decode_jpeg(img, channels=3)\n",
    "    img = layers.experimental.preprocessing.Rescaling(1.0 / 255)(img)\n",
    "    return img\n",
    "\n",
    "adapt_data = adapt_data.map(adapt_mode, num_parallel_calls=AUTOTUNE)\n",
    "adapt_data_batches = adapt_data.shuffle(buffer_size=1000).batch(batch_size).prefetch(buffer_size=AUTOTUNE)"
   ]
  },
  {
   "cell_type": "markdown",
   "metadata": {},
   "source": [
    "The data augmentation preprocessing layers below will be used when training the model but disabled in inference mode."
   ]
  },
  {
   "cell_type": "code",
   "execution_count": null,
   "metadata": {},
   "outputs": [],
   "source": [
    "data_augmentation_layers = tf.keras.Sequential(\n",
    "    [\n",
    "        layers.experimental.preprocessing.RandomCrop(height=image_size, width=image_size),\n",
    "        layers.experimental.preprocessing.RandomFlip(\"horizontal_and_vertical\"),\n",
    "        layers.experimental.preprocessing.RandomRotation(0.25),\n",
    "        layers.experimental.preprocessing.RandomZoom((-0.2, 0)),\n",
    "        layers.experimental.preprocessing.RandomContrast((0.2,0.2))\n",
    "    ]\n",
    ")"
   ]
  },
  {
   "cell_type": "markdown",
   "metadata": {},
   "source": [
    "Simply reusing some of the code from [this tutorial](https://www.tensorflow.org/tutorials/images/data_augmentation) to show what our augmentations look like. I add the image previously opened to a batch and pass it through the data augmentation layers."
   ]
  },
  {
   "cell_type": "code",
   "execution_count": null,
   "metadata": {},
   "outputs": [],
   "source": [
    "image = Image.open(\"../input/cassava-leaf-disease-classification/train_images/3412658650.jpg\")\n",
    "plt.imshow(image)\n",
    "plt.show()"
   ]
  },
  {
   "cell_type": "code",
   "execution_count": null,
   "metadata": {},
   "outputs": [],
   "source": [
    "image = tf.expand_dims(np.array(image), 0)"
   ]
  },
  {
   "cell_type": "code",
   "execution_count": null,
   "metadata": {},
   "outputs": [],
   "source": [
    "plt.figure(figsize=(10, 10))\n",
    "for i in range(9):\n",
    "  augmented_image = data_augmentation_layers(image)\n",
    "  ax = plt.subplot(3, 3, i + 1)\n",
    "  plt.imshow(augmented_image[0])\n",
    "  plt.axis(\"off\")"
   ]
  },
  {
   "cell_type": "markdown",
   "metadata": {},
   "source": [
    "# Build the model"
   ]
  },
  {
   "cell_type": "markdown",
   "metadata": {},
   "source": [
    "I am using an EfficientNetB3 on top of which I add some outputs layers to predict our 5 disease classes. I decided to load the imagenet pretrained weights locally to keep the internet off (part of the requirements to submit a kernel to this competition)."
   ]
  },
  {
   "cell_type": "markdown",
   "metadata": {},
   "source": [
    "At this point, you may have noticed that I have not used any kind of normalization or rescaling. I recently discovered that there is a Normalization layer included in Keras'pretrained EfficientNet, as mentioned [here](https://keras.io/examples/vision/image_classification_efficientnet_fine_tuning/#keras-implementation-of-efficientnet)."
   ]
  },
  {
   "cell_type": "code",
   "execution_count": null,
   "metadata": {},
   "outputs": [],
   "source": [
    "efficientnet = EfficientNetB3(weights=\"../input/efficientnetb3-notop/efficientnetb3_notop.h5\", \n",
    "                              include_top=False, \n",
    "                              input_shape=input_shape, \n",
    "                              drop_connect_rate=dropout_rate)\n",
    "\n",
    "inputs = Input(shape=input_shape)\n",
    "augmented = data_augmentation_layers(inputs)\n",
    "efficientnet = efficientnet(augmented)\n",
    "pooling = layers.GlobalAveragePooling2D()(efficientnet)\n",
    "dropout = layers.Dropout(dropout_rate)(pooling)\n",
    "outputs = Dense(len(classes_to_predict), activation=\"softmax\")(dropout)\n",
    "model = Model(inputs=inputs, outputs=outputs)\n",
    "    \n",
    "model.summary()"
   ]
  },
  {
   "cell_type": "markdown",
   "metadata": {},
   "source": [
    "The 3rd layer of the Efficientnet is the Normalization layer, which can be tuned to our new dataset instead of `imagenet`. Be patient on this one, it does take a bit of time as we're going through the entire training set."
   ]
  },
  {
   "cell_type": "code",
   "execution_count": null,
   "metadata": {},
   "outputs": [],
   "source": [
    "%%time\n",
    "model.get_layer('efficientnetb3').get_layer('normalization').adapt(adapt_data_batches)"
   ]
  },
  {
   "cell_type": "markdown",
   "metadata": {},
   "source": [
    "I wanted to try the new `CosineDecay` function implemented in `tf.keras` as it seemed promising and I struggled to find the right settings (if there were any) for the `ReduceLROnPlateau`."
   ]
  },
  {
   "cell_type": "code",
   "execution_count": null,
   "metadata": {},
   "outputs": [],
   "source": [
    "epochs = 8\n",
    "decay_steps = int(round(len(training_df)/batch_size))*epochs\n",
    "cosine_decay = CosineDecay(initial_learning_rate=1e-4, decay_steps=decay_steps, alpha=0.3)\n",
    "\n",
    "callbacks = [ModelCheckpoint(filepath='best_model.h5', monitor='val_loss', save_best_only=True)]\n",
    "\n",
    "model.compile(loss=\"sparse_categorical_crossentropy\", optimizer=tf.keras.optimizers.Adam(cosine_decay), metrics=[\"accuracy\"])"
   ]
  },
  {
   "cell_type": "code",
   "execution_count": null,
   "metadata": {},
   "outputs": [],
   "source": [
    "history = model.fit(training_data_batches,\n",
    "                  epochs = epochs, \n",
    "                  validation_data=validation_data_batches,\n",
    "                  callbacks=callbacks)"
   ]
  },
  {
   "cell_type": "markdown",
   "metadata": {},
   "source": [
    "# Verification of the training process"
   ]
  },
  {
   "cell_type": "markdown",
   "metadata": {},
   "source": [
    "First, we will check that we perform on similar level on both the training and validation. The training curve will also tell us if we stopped training too early or may have overfitted in comparison to the validation data."
   ]
  },
  {
   "cell_type": "code",
   "execution_count": null,
   "metadata": {},
   "outputs": [],
   "source": [
    "plt.plot(history.history['loss'])\n",
    "plt.plot(history.history['val_loss'])\n",
    "plt.title('Loss over epochs')\n",
    "plt.ylabel('Loss')\n",
    "plt.xlabel('Epoch')\n",
    "plt.legend(['Train', 'Validation'], loc='best')\n",
    "plt.show()"
   ]
  },
  {
   "cell_type": "markdown",
   "metadata": {},
   "source": [
    "We load the best weights that were kept from the training phase. Just to check how our model is performing, we will attempt predictions over the validation set. This can help to highlight any classes that will be consistently miscategorised."
   ]
  },
  {
   "cell_type": "code",
   "execution_count": null,
   "metadata": {},
   "outputs": [],
   "source": [
    "model.load_weights(\"best_model.h5\")"
   ]
  },
  {
   "cell_type": "markdown",
   "metadata": {},
   "source": [
    "# Prediction on test images"
   ]
  },
  {
   "cell_type": "code",
   "execution_count": null,
   "metadata": {},
   "outputs": [],
   "source": [
    "def scan_over_image(img_path, crop_size=512):\n",
    "    '''\n",
    "    Will extract 512x512 images covering the whole original image\n",
    "    with some overlap between images\n",
    "    '''\n",
    "    \n",
    "    img = Image.open(img_path)\n",
    "    img_height, img_width = img.size\n",
    "    img = np.array(img)\n",
    "    \n",
    "    y = random.randint(0,img_height-crop_size)\n",
    "    x = random.randint(0,img_width-crop_size)\n",
    "\n",
    "    x_img_origins = [0,img_width-crop_size]\n",
    "    y_img_origins = [0,img_height-crop_size]\n",
    "    img_list = []\n",
    "    for x in x_img_origins:\n",
    "        for y in y_img_origins:\n",
    "            img_list.append(img[x:x+crop_size , y:y+crop_size,:])\n",
    "  \n",
    "    return np.array(img_list)"
   ]
  },
  {
   "cell_type": "code",
   "execution_count": null,
   "metadata": {},
   "outputs": [],
   "source": [
    "def display_samples(img_path):\n",
    "    '''\n",
    "    Display all 512x512 images extracted from original images\n",
    "    '''\n",
    "    \n",
    "    img_list = scan_over_image(img_path)\n",
    "    sample_number = len(img_list)\n",
    "    fig = plt.figure(figsize = (8,sample_number))\n",
    "    for i in range(0,sample_number):\n",
    "        ax = fig.add_subplot(2, 4, i+1)\n",
    "        ax.imshow(img_list[i])\n",
    "        ax.set_title(str(i))\n",
    "    plt.tight_layout()\n",
    "    plt.show()\n",
    "\n",
    "display_samples(\"../input/cassava-leaf-disease-classification/train_images/3412658650.jpg\")"
   ]
  },
  {
   "cell_type": "markdown",
   "metadata": {},
   "source": [
    "I apply some very basic test time augmentation to every local image extracted from the original 600x800 image. We know we can do some fancy augmentation with `imgaug` or `albumentations` but I wanted to do that exclusively with Keras' preprocessing layers to keep the \"cleanest\" pipeline possible."
   ]
  },
  {
   "cell_type": "code",
   "execution_count": null,
   "metadata": {},
   "outputs": [],
   "source": [
    "test_time_augmentation_layers = tf.keras.Sequential(\n",
    "    [\n",
    "        layers.experimental.preprocessing.RandomFlip(\"horizontal_and_vertical\"),\n",
    "        layers.experimental.preprocessing.RandomZoom((-0.2, 0)),\n",
    "        layers.experimental.preprocessing.RandomContrast((0.2,0.2))\n",
    "    ]\n",
    ")"
   ]
  },
  {
   "cell_type": "code",
   "execution_count": null,
   "metadata": {},
   "outputs": [],
   "source": [
    "def predict_and_vote(image_filename, folder, TTA_runs=4):\n",
    "    '''\n",
    "    Run the model over 4 local areas of the given image,\n",
    "    before making a decision depending on the most predicted\n",
    "    disease.\n",
    "    '''\n",
    "    \n",
    "    #apply TTA to each of the 4 images and sum all predictions for each local image\n",
    "    localised_predictions = []\n",
    "    local_image_list = scan_over_image(folder+image_filename)\n",
    "    for local_image in local_image_list:\n",
    "        duplicated_local_image = tf.convert_to_tensor(np.array([local_image for i in range(TTA_runs)]))\n",
    "        augmented_images = test_time_augmentation_layers(duplicated_local_image)\n",
    "        \n",
    "        predictions = model.predict(augmented_images)\n",
    "        localised_predictions.append(np.sum(predictions, axis=0))\n",
    "    \n",
    "    #sum all predictions from all 4 images and retrieve the index of the highest value\n",
    "    global_predictions = np.sum(np.array(localised_predictions),axis=0)\n",
    "    final_prediction = np.argmax(global_predictions)\n",
    "    \n",
    "    return final_prediction"
   ]
  },
  {
   "cell_type": "code",
   "execution_count": null,
   "metadata": {},
   "outputs": [],
   "source": [
    "def run_predictions_over_image_list(image_list, folder):\n",
    "    predictions = []\n",
    "    with tqdm(total=len(image_list)) as pbar:\n",
    "        for image_filename in image_list:\n",
    "            pbar.update(1)\n",
    "            predictions.append(predict_and_vote(image_filename, folder))\n",
    "    return predictions"
   ]
  },
  {
   "cell_type": "markdown",
   "metadata": {},
   "source": [
    "First, I test my entire prediction pipeline on the validation set as we have little visibility over the test set."
   ]
  },
  {
   "cell_type": "code",
   "execution_count": null,
   "metadata": {},
   "outputs": [],
   "source": [
    "validation_df[\"results\"] = run_predictions_over_image_list(validation_df[\"image_id\"], training_folder)"
   ]
  },
  {
   "cell_type": "code",
   "execution_count": null,
   "metadata": {},
   "outputs": [],
   "source": [
    "!cat ../input/cassava-leaf-disease-classification/label_num_to_disease_map.json"
   ]
  },
  {
   "cell_type": "code",
   "execution_count": null,
   "metadata": {},
   "outputs": [],
   "source": [
    "validation_df[:20]"
   ]
  },
  {
   "cell_type": "code",
   "execution_count": null,
   "metadata": {},
   "outputs": [],
   "source": [
    "true_positives = 0\n",
    "prediction_distribution_per_class = {\"0\":{\"0\": 0, \"1\": 0, \"2\":0, \"3\":0, \"4\":0},\n",
    "                                     \"1\":{\"0\": 0, \"1\": 0, \"2\":0, \"3\":0, \"4\":0},\n",
    "                                     \"2\":{\"0\": 0, \"1\": 0, \"2\":0, \"3\":0, \"4\":0},\n",
    "                                     \"3\":{\"0\": 0, \"1\": 0, \"2\":0, \"3\":0, \"4\":0},\n",
    "                                     \"4\":{\"0\": 0, \"1\": 0, \"2\":0, \"3\":0, \"4\":0}}\n",
    "number_of_images = len(validation_df)\n",
    "for idx, pred in validation_df.iterrows():\n",
    "    if int(pred[\"label\"]) == pred.results:\n",
    "        true_positives+=1\n",
    "    prediction_distribution_per_class[str(pred[\"label\"])][str(pred.results)] += 1\n",
    "print(\"accuracy: {}%\".format(true_positives/number_of_images*100))"
   ]
  },
  {
   "cell_type": "code",
   "execution_count": null,
   "metadata": {},
   "outputs": [],
   "source": [
    "prediction_distribution_per_class"
   ]
  },
  {
   "cell_type": "markdown",
   "metadata": {},
   "source": [
    "We can also have a better understanding of where this new model misclassifies diseases by plotting a heatmap from the results. Each row in this heatmap is normalised to highlight the classification distribution per disease without being bothered by the fact that the dataset is imbalanced."
   ]
  },
  {
   "cell_type": "code",
   "execution_count": null,
   "metadata": {},
   "outputs": [],
   "source": [
    "heatmap_df = pd.DataFrame(columns={\"groundtruth\",\"prediction\",\"value\"})\n",
    "for key in prediction_distribution_per_class.keys():\n",
    "    for pred_key in prediction_distribution_per_class[key].keys():\n",
    "        value = prediction_distribution_per_class[key][pred_key]/validation_df.query(\"label==@key\").count()[0]\n",
    "        heatmap_df = heatmap_df.append({\"groundtruth\":key,\"prediction\":pred_key,\"value\":value}, ignore_index=True)   \n",
    "\n",
    "heatmap = heatmap_df.pivot(index='groundtruth', columns='prediction', values='value')\n",
    "sns.heatmap(heatmap,cmap=\"Blues\")"
   ]
  },
  {
   "cell_type": "code",
   "execution_count": null,
   "metadata": {},
   "outputs": [],
   "source": [
    "test_folder = '../input/cassava-leaf-disease-classification/test_images/'\n",
    "submission_df = pd.DataFrame(columns={\"image_id\",\"label\"})\n",
    "submission_df[\"image_id\"] =  os.listdir(test_folder)\n",
    "submission_df[\"label\"] = 0"
   ]
  },
  {
   "cell_type": "code",
   "execution_count": null,
   "metadata": {},
   "outputs": [],
   "source": [
    "submission_df[\"label\"] = run_predictions_over_image_list(submission_df[\"image_id\"], test_folder)"
   ]
  },
  {
   "cell_type": "code",
   "execution_count": null,
   "metadata": {},
   "outputs": [],
   "source": [
    "submission_df"
   ]
  },
  {
   "cell_type": "code",
   "execution_count": null,
   "metadata": {},
   "outputs": [],
   "source": [
    "submission_df.to_csv(\"submission.csv\", index=False)"
   ]
  },
  {
   "cell_type": "markdown",
   "metadata": {},
   "source": [
    "### Thanks for reading this notebook! If you found this notebook helpful, please give it an upvote. It is always greatly appreciated!"
   ]
  }
 ],
 "metadata": {
  "kernelspec": {
   "display_name": "tf-cert",
   "language": "python",
   "name": "tf-cert"
  },
  "language_info": {
   "codemirror_mode": {
    "name": "ipython",
    "version": 3
   },
   "file_extension": ".py",
   "mimetype": "text/x-python",
   "name": "python",
   "nbconvert_exporter": "python",
   "pygments_lexer": "ipython3",
   "version": "3.8.5"
  }
 },
 "nbformat": 4,
 "nbformat_minor": 4
}
